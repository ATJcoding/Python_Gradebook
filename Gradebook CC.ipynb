{
 "cells": [
  {
   "cell_type": "code",
   "execution_count": null,
   "metadata": {},
   "outputs": [],
   "source": [
    "last_semester_gradebook = [[\"politics\", 80], [\"latin\", 96], [\"dance\", 97], [\"architecture\", 65]]\n",
    "\n",
    "# Your code below: \n",
    "subjects = [\"physics\", \"calculus\", \"poetry\", \"history\"]\n",
    "grades = [98, 97, 85, 88]\n",
    "gradebook = [[\"physics\", 98], [\"calculus\", 97], [\"poetry\", 85], [\"history\", 88]]\n",
    "#Your grade for your computer science class just came in! You got a perfect score, 100!\n",
    "gradebook.append([\"computer science\", 100])\n",
    "#Your grade for \"visual arts\" just came in! You got a 93!\n",
    "gradebook.append([\"visual arts\", 93])\n",
    "#Access the index of the grade for your visual arts class and modify it to be 5 points greater.\n",
    "gradebook[5][1] += 5\n",
    "#You decided to switch from a numerical grade value to a Pass/Fail option for your poetry class.\n",
    "gradebook.remove([\"poetry\", 85])\n",
    "#Adding poetry back with a pass value isntead of a grade\n",
    "gradebook.append([\"poetry\", \"Pass\"])\n",
    "#Create a new variable full_gradebook that combines both last_semester_gradebook and gradebook using + to have one complete grade book.\n",
    "full_gradebook = last_semester_gradebook + gradebook\n",
    "print(full_gradebook)\n",
    "\n",
    "\n",
    "\n",
    "\n",
    "\n",
    "\n",
    "\n",
    "\n",
    "\n",
    "\n",
    "\n",
    "\n",
    "\n",
    "\n",
    "\n",
    "\n",
    "\n",
    "\n",
    "\n",
    "\n",
    "\n",
    "\n",
    "\n",
    "\n",
    "\n"
   ]
  }
 ],
 "metadata": {
  "kernelspec": {
   "display_name": "Python 3.8.7 64-bit",
   "language": "python",
   "name": "python3"
  },
  "language_info": {
   "codemirror_mode": {
    "name": "ipython",
    "version": 3
   },
   "file_extension": ".py",
   "mimetype": "text/x-python",
   "name": "python",
   "nbconvert_exporter": "python",
   "pygments_lexer": "ipython3",
   "version": "3.8.7"
  },
  "orig_nbformat": 4,
  "vscode": {
   "interpreter": {
    "hash": "fd387f4c6bfead775c49f806c424fbbf141bcfb4f89cf82cdfedcbad543523b1"
   }
  }
 },
 "nbformat": 4,
 "nbformat_minor": 2
}
